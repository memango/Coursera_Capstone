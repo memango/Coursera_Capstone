{
 "cells": [
  {
   "cell_type": "markdown",
   "metadata": {},
   "source": [
    "# Capstone Project - The Battle of the Neighborhoods"
   ]
  },
  {
   "cell_type": "markdown",
   "metadata": {},
   "source": [
    "### Applied Data Science Specialization Capstone by IBM/Coursera"
   ]
  },
  {
   "cell_type": "markdown",
   "metadata": {},
   "source": [
    "### Date: 3 March 2021"
   ]
  },
  {
   "cell_type": "markdown",
   "metadata": {},
   "source": [
    "### Author: Daryna Manzheliivska"
   ]
  },
  {
   "cell_type": "markdown",
   "metadata": {},
   "source": [
    "***"
   ]
  },
  {
   "cell_type": "markdown",
   "metadata": {},
   "source": [
    "## Business Problem to be solved:"
   ]
  },
  {
   "cell_type": "markdown",
   "metadata": {},
   "source": [
    "###  To find the safest borough in London to establish a Pizza restaurant with extra-fast neighbourhood delivery (i.e. up to 20 min) and without competition"
   ]
  },
  {
   "cell_type": "markdown",
   "metadata": {},
   "source": [
    "In this data science project we will choose a suitable neighbourhood in London to establish a Pizza restaurant. Our client wants to start a small restaurant business focused on extra-fast pizza delivery around a small local neighbourhood. Therefore our client has requested that location should be the sweet spot area of the safest neighborhood with enough population where there are little to no local Pizza restaurants to avoid competition."
   ]
  },
  {
   "cell_type": "markdown",
   "metadata": {},
   "source": [
    "Therefore, we will build our data science project into four stages of preparing and analysing data to provide a data science advice for our client:"
   ]
  },
  {
   "cell_type": "markdown",
   "metadata": {},
   "source": [
    "1. Crime level\n",
    "2. Population\n",
    "3. Combined crime to population ratio\n",
    "4. Exploring venues in identified borough"
   ]
  },
  {
   "cell_type": "markdown",
   "metadata": {},
   "source": [
    "## Data"
   ]
  },
  {
   "cell_type": "markdown",
   "metadata": {},
   "source": [
    "• To identify the safest areas neighborhood we will use London crime data, which we downloaded from https://data.london.gov.uk/dataset/recorded_crime_summary.<br><br>\n",
    "\n",
    "• We will get data with London boroughts population, latitude and longitude from wikipedia page: https://en.wikipedia.org/wiki/List_of_London_boroughs<br><br>\n",
    "\n",
    "• All data related to locations of Pizza restaurants will be obtained via the FourSquare API utilized via the Request library in Python. This API provides location search, location sharing and details about a local businesses. Foursquare users can also use photos, tips and reviews in many productive ways to add value to the results of data science projects.<br><br>\n",
    "\n",
    "• Work Flow:\n",
    "HTTP requests would be made to this Foursquare API server using latitude and longitude of London boroughts to collect the information of the nearby venues of the chosen boroughs.<br><br>\n",
    "\n",
    "• Visualization:\n",
    "To visualize the neighborhoods cluster distribution of chosen London boroughs we will use Folium - Python visualization library that creates an interactive  map.<br><br>\n",
    "\n",
    "• Extensive comparative analysis to derive insights from the datasets so that to define the safest neighborhood will be carried out using python’s scientific libraries Pandas, NumPy and Scikit-learn.\n"
   ]
  },
  {
   "cell_type": "markdown",
   "metadata": {},
   "source": [
    "## Python Libraries used:"
   ]
  },
  {
   "cell_type": "markdown",
   "metadata": {},
   "source": [
    "• Pandas - Library for Data Analysis<br>\n",
    "• NumPy – Library to handle data in a vectorized manner<br>\n",
    "• JSON – Library to handle JSON files<br>\n",
    "• Geopy – Library to retrieve Location Data<br>\n",
    "• Requests – Library to handle http requests<br>\n",
    "• Folium – Map rendering Library<br>\n",
    "• Sklearn – Python machine learning Library<br>\n",
    "• Matplotlib – Python Plotting Module<br>"
   ]
  },
  {
   "cell_type": "markdown",
   "metadata": {},
   "source": [
    "## Methodology"
   ]
  },
  {
   "cell_type": "markdown",
   "metadata": {},
   "source": [
    "• Data will be collected from provided above public internet resources, cleaned and processed into a dataframe.<br>\n",
    "\n",
    "• FourSquare data will be used to locate all venues and then filtered by venue category.<br>\n",
    "\n",
    "• Final data science advice will be provided based on combined analysis of datasets and venue data."
   ]
  }
 ],
 "metadata": {
  "kernelspec": {
   "display_name": "Python 3",
   "language": "python",
   "name": "python3"
  },
  "language_info": {
   "codemirror_mode": {
    "name": "ipython",
    "version": 3
   },
   "file_extension": ".py",
   "mimetype": "text/x-python",
   "name": "python",
   "nbconvert_exporter": "python",
   "pygments_lexer": "ipython3",
   "version": "3.8.5"
  }
 },
 "nbformat": 4,
 "nbformat_minor": 4
}
